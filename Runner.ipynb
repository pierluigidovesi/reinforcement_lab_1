{
 "cells": [
  {
   "cell_type": "code",
   "execution_count": 1,
   "metadata": {
    "collapsed": true
   },
   "outputs": [],
   "source": [
    "from game_env import Env"
   ]
  },
  {
   "cell_type": "code",
   "execution_count": 2,
   "metadata": {},
   "outputs": [
    {
     "name": "stdout",
     "output_type": "stream",
     "text": [
      "[0. 1. 1. 0. 1.]\n"
     ]
    }
   ],
   "source": [
    "gino = Env()\n",
    "pino = gino.get_actions([0,0])\n",
    "print(pino)"
   ]
  },
  {
   "cell_type": "code",
   "execution_count": 3,
   "metadata": {},
   "outputs": [
    {
     "name": "stdout",
     "output_type": "stream",
     "text": [
      "12"
     ]
    },
    {
     "name": "stdout",
     "output_type": "stream",
     "text": [
      "\n[0, 1]\n"
     ]
    }
   ],
   "source": [
    "pino = gino.get_actions_and_states([0,0],[3,3])\n",
    "print(len(pino))\n",
    "print(pino[0][0])"
   ]
  },
  {
   "cell_type": "code",
   "execution_count": 29,
   "metadata": {},
   "outputs": [
    {
     "name": "stdout",
     "output_type": "stream",
     "text": [
      "[0 1 2 1 2 1 1 3 3 3 3 4]\n[1 1 1 3 3 4 5 1 2 3 4 3]\n"
     ]
    },
    {
     "name": "stderr",
     "output_type": "stream",
     "text": [
      "C:\\Users\\PierLuigi\\PycharmProjects\\reinforcement_lab_1\\venv\\lib\\site-packages\\matplotlib\\figure.py:98: MatplotlibDeprecationWarning: \nAdding an axes using the same arguments as a previous axes currently reuses the earlier instance.  In a future version, a new instance will always be created and returned.  Meanwhile, this warning can be suppressed, and the future behavior ensured, by passing a unique label to each axes instance.\n  \"Adding an axes using the same arguments as a previous axes \"\n"
     ]
    },
    {
     "data": {
      "image/png": "[encoded data removed]",
      "text/plain": [
       "<Figure size 432x288 with 1 Axes>"
      ]
     },
     "metadata": {},
     "output_type": "display_data"
    }
   ],
   "source": [
    "import matplotlib.pyplot as plt\n",
    "\n",
    "walls = gino.walls\n",
    "\n",
    "def plot_state(state):\n",
    "    map = np.zeros((6, 5))\n",
    "    # add walls\n",
    "    walls_array = np.array([item[0] for item in walls])\n",
    "    #print(walls_array)\n",
    "    print(np.array([item[0] for item in walls_array]))\n",
    "    print(np.array([item[1] for item in walls_array]))\n",
    "    \n",
    "    i_walls_array = np.array([item[1] for item in walls_array])\n",
    "    j_walls_array = np.array([item[0] for item in walls_array])\n",
    "    \n",
    "    map[i_walls_array, j_walls_array] = 1\n",
    "    #map[np.array([item[0] for item in walls])] = 1\n",
    "    # add agent pos\n",
    "    #map[state[0]] = 2\n",
    "    # add mino pos\n",
    "    #map[state[1]] = 3\n",
    "\n",
    "    plt.pcolormesh(map)\n",
    "    plt.axes().set_aspect('equal')  # set the x and y axes to the same scale\n",
    "    plt.xticks([])  # remove the tick marks by setting to an empty list\n",
    "    plt.yticks([])  # remove the tick marks by setting to an empty list\n",
    "    plt.axes().invert_yaxis()  # invert the y-axis so the first row of data is at the top\n",
    "    plt.show()\n",
    "\n",
    "plot_state(pino[1])"
   ]
  },
  {
   "cell_type": "code",
   "execution_count": 5,
   "metadata": {},
   "outputs": [
    {
     "name": "stdout",
     "output_type": "stream",
     "text": [
      "[[0. 0. 0. 0. 0.]\n [0. 0. 0. 0. 0.]\n [0. 0. 0. 0. 0.]\n [0. 0. 0. 0. 0.]]\n"
     ]
    }
   ],
   "source": [
    "import numpy as np\n",
    "a = np.zeros((4,5))\n",
    "print(a)"
   ]
  },
  {
   "cell_type": "code",
   "execution_count": 6,
   "metadata": {},
   "outputs": [
    {
     "name": "stdout",
     "output_type": "stream",
     "text": [
      "[[0 1]\n [1 1]\n [2 1]\n [1 3]\n [2 3]\n [1 4]\n [1 5]\n [3 1]\n [3 2]\n [3 3]\n [3 4]\n [4 3]]\n"
     ]
    }
   ],
   "source": [
    "print(np.array([item[0] for item in gino.walls]))"
   ]
  },
  {
   "cell_type": "code",
   "execution_count": 7,
   "metadata": {},
   "outputs": [],
   "source": []
  },
  {
   "cell_type": "code",
   "execution_count": null,
   "metadata": {},
   "outputs": [],
   "source": []
  }
 ],
 "metadata": {
  "kernelspec": {
   "display_name": "Python 2",
   "language": "python",
   "name": "python2"
  },
  "language_info": {
   "codemirror_mode": {
    "name": "ipython",
    "version": 2
   },
   "file_extension": ".py",
   "mimetype": "text/x-python",
   "name": "python",
   "nbconvert_exporter": "python",
   "pygments_lexer": "ipython2",
   "version": "2.7.6"
  }
 },
 "nbformat": 4,
 "nbformat_minor": 0
}
